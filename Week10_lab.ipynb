{
  "nbformat": 4,
  "nbformat_minor": 0,
  "metadata": {
    "colab": {
      "provenance": [],
      "include_colab_link": true
    },
    "kernelspec": {
      "name": "python3",
      "display_name": "Python 3"
    },
    "language_info": {
      "name": "python"
    }
  },
  "cells": [
    {
      "cell_type": "markdown",
      "metadata": {
        "id": "view-in-github",
        "colab_type": "text"
      },
      "source": [
        "<a href=\"https://colab.research.google.com/github/Dm2998/Data_Analysis_Lab/blob/main/Week10_lab.ipynb\" target=\"_parent\"><img src=\"https://colab.research.google.com/assets/colab-badge.svg\" alt=\"Open In Colab\"/></a>"
      ]
    },
    {
      "cell_type": "markdown",
      "source": [
        "#Data Analysis Y3- Week 10 Lab\n",
        "- In this lab, you will parctice how you get calculate the correaltion, and answer hypothsese asumptions using Hypothsis testing\n",
        "- Use the the Exercise and Fitness Metrics Dataset \"exercise_dataset\" in Moodel.  "
      ],
      "metadata": {
        "id": "Ol1ME5h8pyDG"
      }
    },
    {
      "cell_type": "markdown",
      "source": [
        "1. Import te imortant packages (pandas, scipy.stats, ttest, ttest_1samp, ttest_ind, ttest_rel, etc.,)"
      ],
      "metadata": {
        "id": "NMGwnHXHVCEQ"
      }
    },
    {
      "cell_type": "code",
      "source": [
        "#Import packages\n",
        "import scipy.stats as stats\n",
        "from scipy.stats import ttest_ind\n",
        "from scipy.stats import ttest_rel\n",
        "\n",
        "\n",
        "\n",
        "import pandas as pd\n"
      ],
      "metadata": {
        "id": "ozaYKncXpyYl"
      },
      "execution_count": 1,
      "outputs": []
    },
    {
      "cell_type": "markdown",
      "source": [
        "2.   Load and read the Exercise and Fitness Metrics Dataset \"exercise_dataset\""
      ],
      "metadata": {
        "id": "mlqcXoGhUluW"
      }
    },
    {
      "cell_type": "code",
      "execution_count": 3,
      "metadata": {
        "id": "4TZLagJqpugn",
        "colab": {
          "base_uri": "https://localhost:8080/",
          "height": 241
        },
        "outputId": "5ccabe48-7285-4996-a4e4-88ea6cf11073"
      },
      "outputs": [
        {
          "output_type": "execute_result",
          "data": {
            "text/plain": [
              "   ID     Exercise  Calories Burn  Dream Weight  Actual Weight  Age  Gender  \\\n",
              "0   1   Exercise 2     286.959851     91.892531      96.301115   45    Male   \n",
              "1   2   Exercise 7     343.453036     64.165097      61.104668   25    Male   \n",
              "2   3   Exercise 4     261.223465     70.846224      71.766724   20    Male   \n",
              "3   4   Exercise 5     127.183858     79.477008      82.984456   33    Male   \n",
              "4   5  Exercise 10     416.318374     89.960226      85.643174   29  Female   \n",
              "\n",
              "   Duration  Heart Rate        BMI Weather Conditions  Exercise Intensity  \n",
              "0        37         170  29.426275              Rainy                   5  \n",
              "1        43         142  21.286346              Rainy                   5  \n",
              "2        20         148  27.899592             Cloudy                   4  \n",
              "3        39         170  33.729552              Sunny                  10  \n",
              "4        34         118  23.286113             Cloudy                   3  "
            ],
            "text/html": [
              "\n",
              "  <div id=\"df-57f1bcbc-8439-4df8-aab2-aed8824bb2b0\" class=\"colab-df-container\">\n",
              "    <div>\n",
              "<style scoped>\n",
              "    .dataframe tbody tr th:only-of-type {\n",
              "        vertical-align: middle;\n",
              "    }\n",
              "\n",
              "    .dataframe tbody tr th {\n",
              "        vertical-align: top;\n",
              "    }\n",
              "\n",
              "    .dataframe thead th {\n",
              "        text-align: right;\n",
              "    }\n",
              "</style>\n",
              "<table border=\"1\" class=\"dataframe\">\n",
              "  <thead>\n",
              "    <tr style=\"text-align: right;\">\n",
              "      <th></th>\n",
              "      <th>ID</th>\n",
              "      <th>Exercise</th>\n",
              "      <th>Calories Burn</th>\n",
              "      <th>Dream Weight</th>\n",
              "      <th>Actual Weight</th>\n",
              "      <th>Age</th>\n",
              "      <th>Gender</th>\n",
              "      <th>Duration</th>\n",
              "      <th>Heart Rate</th>\n",
              "      <th>BMI</th>\n",
              "      <th>Weather Conditions</th>\n",
              "      <th>Exercise Intensity</th>\n",
              "    </tr>\n",
              "  </thead>\n",
              "  <tbody>\n",
              "    <tr>\n",
              "      <th>0</th>\n",
              "      <td>1</td>\n",
              "      <td>Exercise 2</td>\n",
              "      <td>286.959851</td>\n",
              "      <td>91.892531</td>\n",
              "      <td>96.301115</td>\n",
              "      <td>45</td>\n",
              "      <td>Male</td>\n",
              "      <td>37</td>\n",
              "      <td>170</td>\n",
              "      <td>29.426275</td>\n",
              "      <td>Rainy</td>\n",
              "      <td>5</td>\n",
              "    </tr>\n",
              "    <tr>\n",
              "      <th>1</th>\n",
              "      <td>2</td>\n",
              "      <td>Exercise 7</td>\n",
              "      <td>343.453036</td>\n",
              "      <td>64.165097</td>\n",
              "      <td>61.104668</td>\n",
              "      <td>25</td>\n",
              "      <td>Male</td>\n",
              "      <td>43</td>\n",
              "      <td>142</td>\n",
              "      <td>21.286346</td>\n",
              "      <td>Rainy</td>\n",
              "      <td>5</td>\n",
              "    </tr>\n",
              "    <tr>\n",
              "      <th>2</th>\n",
              "      <td>3</td>\n",
              "      <td>Exercise 4</td>\n",
              "      <td>261.223465</td>\n",
              "      <td>70.846224</td>\n",
              "      <td>71.766724</td>\n",
              "      <td>20</td>\n",
              "      <td>Male</td>\n",
              "      <td>20</td>\n",
              "      <td>148</td>\n",
              "      <td>27.899592</td>\n",
              "      <td>Cloudy</td>\n",
              "      <td>4</td>\n",
              "    </tr>\n",
              "    <tr>\n",
              "      <th>3</th>\n",
              "      <td>4</td>\n",
              "      <td>Exercise 5</td>\n",
              "      <td>127.183858</td>\n",
              "      <td>79.477008</td>\n",
              "      <td>82.984456</td>\n",
              "      <td>33</td>\n",
              "      <td>Male</td>\n",
              "      <td>39</td>\n",
              "      <td>170</td>\n",
              "      <td>33.729552</td>\n",
              "      <td>Sunny</td>\n",
              "      <td>10</td>\n",
              "    </tr>\n",
              "    <tr>\n",
              "      <th>4</th>\n",
              "      <td>5</td>\n",
              "      <td>Exercise 10</td>\n",
              "      <td>416.318374</td>\n",
              "      <td>89.960226</td>\n",
              "      <td>85.643174</td>\n",
              "      <td>29</td>\n",
              "      <td>Female</td>\n",
              "      <td>34</td>\n",
              "      <td>118</td>\n",
              "      <td>23.286113</td>\n",
              "      <td>Cloudy</td>\n",
              "      <td>3</td>\n",
              "    </tr>\n",
              "  </tbody>\n",
              "</table>\n",
              "</div>\n",
              "    <div class=\"colab-df-buttons\">\n",
              "\n",
              "  <div class=\"colab-df-container\">\n",
              "    <button class=\"colab-df-convert\" onclick=\"convertToInteractive('df-57f1bcbc-8439-4df8-aab2-aed8824bb2b0')\"\n",
              "            title=\"Convert this dataframe to an interactive table.\"\n",
              "            style=\"display:none;\">\n",
              "\n",
              "  <svg xmlns=\"http://www.w3.org/2000/svg\" height=\"24px\" viewBox=\"0 -960 960 960\">\n",
              "    <path d=\"M120-120v-720h720v720H120Zm60-500h600v-160H180v160Zm220 220h160v-160H400v160Zm0 220h160v-160H400v160ZM180-400h160v-160H180v160Zm440 0h160v-160H620v160ZM180-180h160v-160H180v160Zm440 0h160v-160H620v160Z\"/>\n",
              "  </svg>\n",
              "    </button>\n",
              "\n",
              "  <style>\n",
              "    .colab-df-container {\n",
              "      display:flex;\n",
              "      gap: 12px;\n",
              "    }\n",
              "\n",
              "    .colab-df-convert {\n",
              "      background-color: #E8F0FE;\n",
              "      border: none;\n",
              "      border-radius: 50%;\n",
              "      cursor: pointer;\n",
              "      display: none;\n",
              "      fill: #1967D2;\n",
              "      height: 32px;\n",
              "      padding: 0 0 0 0;\n",
              "      width: 32px;\n",
              "    }\n",
              "\n",
              "    .colab-df-convert:hover {\n",
              "      background-color: #E2EBFA;\n",
              "      box-shadow: 0px 1px 2px rgba(60, 64, 67, 0.3), 0px 1px 3px 1px rgba(60, 64, 67, 0.15);\n",
              "      fill: #174EA6;\n",
              "    }\n",
              "\n",
              "    .colab-df-buttons div {\n",
              "      margin-bottom: 4px;\n",
              "    }\n",
              "\n",
              "    [theme=dark] .colab-df-convert {\n",
              "      background-color: #3B4455;\n",
              "      fill: #D2E3FC;\n",
              "    }\n",
              "\n",
              "    [theme=dark] .colab-df-convert:hover {\n",
              "      background-color: #434B5C;\n",
              "      box-shadow: 0px 1px 3px 1px rgba(0, 0, 0, 0.15);\n",
              "      filter: drop-shadow(0px 1px 2px rgba(0, 0, 0, 0.3));\n",
              "      fill: #FFFFFF;\n",
              "    }\n",
              "  </style>\n",
              "\n",
              "    <script>\n",
              "      const buttonEl =\n",
              "        document.querySelector('#df-57f1bcbc-8439-4df8-aab2-aed8824bb2b0 button.colab-df-convert');\n",
              "      buttonEl.style.display =\n",
              "        google.colab.kernel.accessAllowed ? 'block' : 'none';\n",
              "\n",
              "      async function convertToInteractive(key) {\n",
              "        const element = document.querySelector('#df-57f1bcbc-8439-4df8-aab2-aed8824bb2b0');\n",
              "        const dataTable =\n",
              "          await google.colab.kernel.invokeFunction('convertToInteractive',\n",
              "                                                    [key], {});\n",
              "        if (!dataTable) return;\n",
              "\n",
              "        const docLinkHtml = 'Like what you see? Visit the ' +\n",
              "          '<a target=\"_blank\" href=https://colab.research.google.com/notebooks/data_table.ipynb>data table notebook</a>'\n",
              "          + ' to learn more about interactive tables.';\n",
              "        element.innerHTML = '';\n",
              "        dataTable['output_type'] = 'display_data';\n",
              "        await google.colab.output.renderOutput(dataTable, element);\n",
              "        const docLink = document.createElement('div');\n",
              "        docLink.innerHTML = docLinkHtml;\n",
              "        element.appendChild(docLink);\n",
              "      }\n",
              "    </script>\n",
              "  </div>\n",
              "\n",
              "\n",
              "<div id=\"df-a0197e99-2d4e-4be6-a8be-3a81256652a8\">\n",
              "  <button class=\"colab-df-quickchart\" onclick=\"quickchart('df-a0197e99-2d4e-4be6-a8be-3a81256652a8')\"\n",
              "            title=\"Suggest charts\"\n",
              "            style=\"display:none;\">\n",
              "\n",
              "<svg xmlns=\"http://www.w3.org/2000/svg\" height=\"24px\"viewBox=\"0 0 24 24\"\n",
              "     width=\"24px\">\n",
              "    <g>\n",
              "        <path d=\"M19 3H5c-1.1 0-2 .9-2 2v14c0 1.1.9 2 2 2h14c1.1 0 2-.9 2-2V5c0-1.1-.9-2-2-2zM9 17H7v-7h2v7zm4 0h-2V7h2v10zm4 0h-2v-4h2v4z\"/>\n",
              "    </g>\n",
              "</svg>\n",
              "  </button>\n",
              "\n",
              "<style>\n",
              "  .colab-df-quickchart {\n",
              "      --bg-color: #E8F0FE;\n",
              "      --fill-color: #1967D2;\n",
              "      --hover-bg-color: #E2EBFA;\n",
              "      --hover-fill-color: #174EA6;\n",
              "      --disabled-fill-color: #AAA;\n",
              "      --disabled-bg-color: #DDD;\n",
              "  }\n",
              "\n",
              "  [theme=dark] .colab-df-quickchart {\n",
              "      --bg-color: #3B4455;\n",
              "      --fill-color: #D2E3FC;\n",
              "      --hover-bg-color: #434B5C;\n",
              "      --hover-fill-color: #FFFFFF;\n",
              "      --disabled-bg-color: #3B4455;\n",
              "      --disabled-fill-color: #666;\n",
              "  }\n",
              "\n",
              "  .colab-df-quickchart {\n",
              "    background-color: var(--bg-color);\n",
              "    border: none;\n",
              "    border-radius: 50%;\n",
              "    cursor: pointer;\n",
              "    display: none;\n",
              "    fill: var(--fill-color);\n",
              "    height: 32px;\n",
              "    padding: 0;\n",
              "    width: 32px;\n",
              "  }\n",
              "\n",
              "  .colab-df-quickchart:hover {\n",
              "    background-color: var(--hover-bg-color);\n",
              "    box-shadow: 0 1px 2px rgba(60, 64, 67, 0.3), 0 1px 3px 1px rgba(60, 64, 67, 0.15);\n",
              "    fill: var(--button-hover-fill-color);\n",
              "  }\n",
              "\n",
              "  .colab-df-quickchart-complete:disabled,\n",
              "  .colab-df-quickchart-complete:disabled:hover {\n",
              "    background-color: var(--disabled-bg-color);\n",
              "    fill: var(--disabled-fill-color);\n",
              "    box-shadow: none;\n",
              "  }\n",
              "\n",
              "  .colab-df-spinner {\n",
              "    border: 2px solid var(--fill-color);\n",
              "    border-color: transparent;\n",
              "    border-bottom-color: var(--fill-color);\n",
              "    animation:\n",
              "      spin 1s steps(1) infinite;\n",
              "  }\n",
              "\n",
              "  @keyframes spin {\n",
              "    0% {\n",
              "      border-color: transparent;\n",
              "      border-bottom-color: var(--fill-color);\n",
              "      border-left-color: var(--fill-color);\n",
              "    }\n",
              "    20% {\n",
              "      border-color: transparent;\n",
              "      border-left-color: var(--fill-color);\n",
              "      border-top-color: var(--fill-color);\n",
              "    }\n",
              "    30% {\n",
              "      border-color: transparent;\n",
              "      border-left-color: var(--fill-color);\n",
              "      border-top-color: var(--fill-color);\n",
              "      border-right-color: var(--fill-color);\n",
              "    }\n",
              "    40% {\n",
              "      border-color: transparent;\n",
              "      border-right-color: var(--fill-color);\n",
              "      border-top-color: var(--fill-color);\n",
              "    }\n",
              "    60% {\n",
              "      border-color: transparent;\n",
              "      border-right-color: var(--fill-color);\n",
              "    }\n",
              "    80% {\n",
              "      border-color: transparent;\n",
              "      border-right-color: var(--fill-color);\n",
              "      border-bottom-color: var(--fill-color);\n",
              "    }\n",
              "    90% {\n",
              "      border-color: transparent;\n",
              "      border-bottom-color: var(--fill-color);\n",
              "    }\n",
              "  }\n",
              "</style>\n",
              "\n",
              "  <script>\n",
              "    async function quickchart(key) {\n",
              "      const quickchartButtonEl =\n",
              "        document.querySelector('#' + key + ' button');\n",
              "      quickchartButtonEl.disabled = true;  // To prevent multiple clicks.\n",
              "      quickchartButtonEl.classList.add('colab-df-spinner');\n",
              "      try {\n",
              "        const charts = await google.colab.kernel.invokeFunction(\n",
              "            'suggestCharts', [key], {});\n",
              "      } catch (error) {\n",
              "        console.error('Error during call to suggestCharts:', error);\n",
              "      }\n",
              "      quickchartButtonEl.classList.remove('colab-df-spinner');\n",
              "      quickchartButtonEl.classList.add('colab-df-quickchart-complete');\n",
              "    }\n",
              "    (() => {\n",
              "      let quickchartButtonEl =\n",
              "        document.querySelector('#df-a0197e99-2d4e-4be6-a8be-3a81256652a8 button');\n",
              "      quickchartButtonEl.style.display =\n",
              "        google.colab.kernel.accessAllowed ? 'block' : 'none';\n",
              "    })();\n",
              "  </script>\n",
              "</div>\n",
              "    </div>\n",
              "  </div>\n"
            ]
          },
          "metadata": {},
          "execution_count": 3
        }
      ],
      "source": [
        "#load and read the dataset\n",
        "data =pd.read_csv('exercise_dataset.csv')\n",
        "data.head()"
      ]
    },
    {
      "cell_type": "markdown",
      "source": [
        "#Task 1: Using Correlation Test (Pearson’s Correlation Coefficient):\n",
        "\n",
        "- Calculate Pearson correlation coefficient between 'duration' and 'Calories Burn' and confrim the bewlow hypothses:\n",
        "#Hypotheses\n",
        "- H0: There is no significant correlation between exercise time and calories burned.\n",
        "- H1: There is a significant correlation between exercise time and calories burned."
      ],
      "metadata": {
        "id": "de0tGgsfuiIS"
      }
    },
    {
      "cell_type": "code",
      "source": [
        "correlation_coefficient = stats.pearsonr(data['Duration'], data['Calories Burn'])\n",
        "\n",
        "correlation_coefficient\n",
        "\n",
        "\n",
        "#The correlation result is displayed, including the statistic and p-value, is 0.021 not correlation\n",
        "# Pearson correlation coefficient: 0.02179310988586642\n",
        "# p-value: 0.17560694580651773\n",
        "#The p-value is not corroletion  (0.1756) of 0.05."
      ],
      "metadata": {
        "id": "FDt8U7jft91D",
        "colab": {
          "base_uri": "https://localhost:8080/",
          "height": 0
        },
        "outputId": "cedb88d8-3c84-4848-bb4c-04aa71c80909"
      },
      "execution_count": 4,
      "outputs": [
        {
          "output_type": "execute_result",
          "data": {
            "text/plain": [
              "PearsonRResult(statistic=0.02179310988586642, pvalue=0.17560694580651773)"
            ]
          },
          "metadata": {},
          "execution_count": 4
        }
      ]
    },
    {
      "cell_type": "markdown",
      "source": [
        "# Task 2: Use One-Sample T-test to answer the wuestion below\n",
        "Assuming you want to test if the mean weight of participants is significantly different from the population mean weight (70 kg).\n",
        "#Hypothisis\n",
        "- H0: The mean weight of participants is equal to the population mean weight (70 kg).\n",
        "- H1: The mean weight of participants is significantly different from the population mean weight (70 kg)."
      ],
      "metadata": {
        "id": "T06ME6HsXqgH"
      }
    },
    {
      "cell_type": "code",
      "source": [
        "t_statistic = stats.ttest_1samp(data['Actual Weight'], 70)\n",
        "t_statistic\n",
        "\n",
        "\n",
        "# t-statistic: 21.725021808925085\n",
        "# p-value: 7.838353179052936e-99\n",
        "#The p-value is extremely small  no correlation\n"
      ],
      "metadata": {
        "id": "5iSlgcv-wEQ6",
        "colab": {
          "base_uri": "https://localhost:8080/",
          "height": 0
        },
        "outputId": "527264c0-e848-4d0a-e06d-8e6b5ebdda08"
      },
      "execution_count": 7,
      "outputs": [
        {
          "output_type": "execute_result",
          "data": {
            "text/plain": [
              "TtestResult(statistic=21.725021808925085, pvalue=7.838353179052936e-99, df=3863)"
            ]
          },
          "metadata": {},
          "execution_count": 7
        }
      ]
    },
    {
      "cell_type": "markdown",
      "source": [
        "Your Hypothsis Answer:"
      ],
      "metadata": {
        "id": "faRJYCDSzC6i"
      }
    },
    {
      "cell_type": "markdown",
      "source": [
        "# Task 3: Use two-Sample T-test to answer the question below\n",
        "Assuming you want to test if there is a significant difference in exercise time between male and female participants.\n",
        "#Hypotheses\n",
        "- H0: There is no significant difference in exercise time between male and female participants.\n",
        "- H1: There is a significant difference in exercise time between male and female participants.\n",
        "\n"
      ],
      "metadata": {
        "id": "KqpqXqlsYkNj"
      }
    },
    {
      "cell_type": "code",
      "source": [
        "male_duration = data[data['Gender'] == 'Male']['Duration']\n",
        "\n",
        "female_duration = data[data['Gender'] == 'Female']['Duration']\n",
        "\n",
        "t_statistic, p_value = stats.ttest_ind(male_duration, female_duration)\n",
        "\n",
        "p_value = stats.ttest_ind(male_duration, female_duration)\n",
        "t_statistic\n",
        "\n",
        "p_value\n",
        "\n",
        "#If the p-value is greater than 0.05, not corroletion, wi the p value is 0.05"
      ],
      "metadata": {
        "id": "qNEQj9sCZbdQ",
        "colab": {
          "base_uri": "https://localhost:8080/",
          "height": 0
        },
        "outputId": "23938018-f082-4996-b81a-064c0b4708cf"
      },
      "execution_count": 9,
      "outputs": [
        {
          "output_type": "execute_result",
          "data": {
            "text/plain": [
              "TtestResult(statistic=-0.1391572031254142, pvalue=0.8893331821165864, df=3862.0)"
            ]
          },
          "metadata": {},
          "execution_count": 9
        }
      ]
    },
    {
      "cell_type": "code",
      "source": [],
      "metadata": {
        "id": "-YqH8tyRzqAA"
      },
      "execution_count": null,
      "outputs": []
    },
    {
      "cell_type": "markdown",
      "source": [
        "Your Hypothsis Answer:"
      ],
      "metadata": {
        "id": "Q4JC3knc1ASF"
      }
    },
    {
      "cell_type": "markdown",
      "source": [
        "# Task 4: Use Paired T-test to answer the below question\n",
        "Assuming you want to test if there is a significant difference in weight before and after exercise.\n",
        "\n",
        "**- Hint** (look at the dataset for the varaible that represnt the \"after exercise\")\n",
        "\n",
        "#Hypotheses\n",
        "- H0: There is no significant difference in weight before and after exercise.\n",
        "- H1: There is a significant difference in weight before and after exercise."
      ],
      "metadata": {
        "id": "WAZLisL7ZbrR"
      }
    },
    {
      "cell_type": "code",
      "source": [
        "before_weight = data['Dream Weight']\n",
        "after_weight = data['Actual Weight']\n",
        "t_statistic = stats.ttest_rel(before_weight, after_weight)\n",
        "t_statistic"
      ],
      "metadata": {
        "id": "Oa-Hwo3vab99",
        "colab": {
          "base_uri": "https://localhost:8080/",
          "height": 0
        },
        "outputId": "561dd83a-0d29-4c07-9a21-0411aa039533"
      },
      "execution_count": 6,
      "outputs": [
        {
          "output_type": "execute_result",
          "data": {
            "text/plain": [
              "TtestResult(statistic=-1.0719225710999716, pvalue=0.2838217725306073, df=3863)"
            ]
          },
          "metadata": {},
          "execution_count": 6
        }
      ]
    },
    {
      "cell_type": "code",
      "source": [
        "#t-statistic: -1.0719225710999716\n",
        "# p values is not corroletion 0.05  Differents"
      ],
      "metadata": {
        "id": "cxJeHSc91jwx"
      },
      "execution_count": null,
      "outputs": []
    },
    {
      "cell_type": "markdown",
      "source": [
        "Your Hypothsis Answer:"
      ],
      "metadata": {
        "id": "QOleIMVL3SrE"
      }
    },
    {
      "cell_type": "markdown",
      "source": [
        "Note: Upload your lab to Moodel"
      ],
      "metadata": {
        "id": "WJFaKyG54H-Q"
      }
    }
  ]
}